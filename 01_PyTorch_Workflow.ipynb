{
  "nbformat": 4,
  "nbformat_minor": 0,
  "metadata": {
    "colab": {
      "provenance": [],
      "authorship_tag": "ABX9TyNxjqS4n7pShm8xugKaMD+x",
      "include_colab_link": true
    },
    "kernelspec": {
      "name": "python3",
      "display_name": "Python 3"
    },
    "language_info": {
      "name": "python"
    }
  },
  "cells": [
    {
      "cell_type": "markdown",
      "metadata": {
        "id": "view-in-github",
        "colab_type": "text"
      },
      "source": [
        "<a href=\"https://colab.research.google.com/github/mirpouya/Pytorch_Tutorial/blob/main/01_PyTorch_Workflow.ipynb\" target=\"_parent\"><img src=\"https://colab.research.google.com/assets/colab-badge.svg\" alt=\"Open In Colab\"/></a>"
      ]
    },
    {
      "cell_type": "markdown",
      "source": [
        "# Work flow\n",
        "* ## getting the data ready\n",
        "* ## turn the data into tensors\n",
        "* ## build or pick a pretrained model\n",
        "  1. pick a loss function and optimizer\n",
        "  2. build a training loop\n",
        "* ## fit the model to the data to make prediction\n",
        "* ## evaluate the model\n",
        "* ## improve through experimentation\n",
        "* ## save and reload the trained model"
      ],
      "metadata": {
        "id": "9uuvm1pyHiXy"
      }
    },
    {
      "cell_type": "code",
      "execution_count": 1,
      "metadata": {
        "colab": {
          "base_uri": "https://localhost:8080/",
          "height": 36
        },
        "id": "9Psn_WK_EY5P",
        "outputId": "9e0838f2-26d5-4e80-85f5-a970fbd20316"
      },
      "outputs": [
        {
          "output_type": "execute_result",
          "data": {
            "text/plain": [
              "'2.0.1+cu118'"
            ],
            "application/vnd.google.colaboratory.intrinsic+json": {
              "type": "string"
            }
          },
          "metadata": {},
          "execution_count": 1
        }
      ],
      "source": [
        "import torch\n",
        "from torch import nn # nn contains all of pytorch's neural network's building blocks \n",
        "import matplotlib.pyplot as plt\n",
        "\n",
        "# checkout pytorch version\n",
        "torch.__version__"
      ]
    },
    {
      "cell_type": "markdown",
      "source": [
        "## 1. Data(preparing and loading)"
      ],
      "metadata": {
        "id": "qDlYfzrCQSA-"
      }
    },
    {
      "cell_type": "code",
      "source": [
        "# generating some linear regressoin data\n",
        "\n",
        "# create known parameters\n",
        "weight = 0.7\n",
        "bias = 0.3\n",
        "\n",
        "# create data\n",
        "start = 0\n",
        "end = 1\n",
        "step = 0.02\n",
        "X = torch.arange(start, end, step).unsqueeze(dim=1)\n",
        "y = weight*X + bias"
      ],
      "metadata": {
        "id": "GC2VsPU7HtQG"
      },
      "execution_count": 2,
      "outputs": []
    },
    {
      "cell_type": "code",
      "source": [
        "torch.arange(start, end, step).unsqueeze(dim=1).shape"
      ],
      "metadata": {
        "colab": {
          "base_uri": "https://localhost:8080/"
        },
        "id": "tn-mxe8WY6j6",
        "outputId": "314e7841-d2cc-4194-e3f5-1d48a260cee9"
      },
      "execution_count": 3,
      "outputs": [
        {
          "output_type": "execute_result",
          "data": {
            "text/plain": [
              "torch.Size([50, 1])"
            ]
          },
          "metadata": {},
          "execution_count": 3
        }
      ]
    },
    {
      "cell_type": "code",
      "source": [
        "# splitting the data into test and train\n",
        "\n",
        "train_split = int(0.8 * len(X))\n",
        "\n",
        "X_train, y_train = X[:train_split], y[:train_split]\n",
        "X_test, y_test = X[train_split:], y[train_split:]\n",
        "\n",
        "len(X_train), len(y_train), len(X_test), len(y_test)"
      ],
      "metadata": {
        "colab": {
          "base_uri": "https://localhost:8080/"
        },
        "id": "Z7-wXMuSY9wG",
        "outputId": "300a7ba3-ff6f-4d58-df43-a2b88050971a"
      },
      "execution_count": 4,
      "outputs": [
        {
          "output_type": "execute_result",
          "data": {
            "text/plain": [
              "(40, 40, 10, 10)"
            ]
          },
          "metadata": {},
          "execution_count": 4
        }
      ]
    },
    {
      "cell_type": "code",
      "source": [
        "# a function for plotting predictions\n",
        "\n",
        "def plot_predictions(\n",
        "        train_data=X_train,\n",
        "        train_labels=y_train,\n",
        "        test_data=X_test,\n",
        "        test_labels=y_test,\n",
        "        predictions=None):\n",
        "  \"\"\"\n",
        "  plots training data, test data, and compares predictions\n",
        "  \"\"\"\n",
        "  # plot training data in blue\n",
        "  plt.scatter(train_data, train_labels, c=\"b\", s=4, label=\"Training Data\")\n",
        "\n",
        "  # plot test data in green\n",
        "  plt.scatter(test_data, test_labels, c=\"g\", s=4, label=\"Test Data\")\n",
        "\n",
        "  # Are there predictions?\n",
        "  if predictions is not None:\n",
        "    # plot the predictions\n",
        "    plt.scatter(test_data, predictions, c=\"r\", s=4, label=\"Predictions\")\n",
        "\n",
        "  # show the ledgend\n",
        "  plt.legend(prop={\"size\":14})\n"
      ],
      "metadata": {
        "id": "eVUBlJIpsodo"
      },
      "execution_count": 5,
      "outputs": []
    },
    {
      "cell_type": "code",
      "source": [
        "plot_predictions()"
      ],
      "metadata": {
        "colab": {
          "base_uri": "https://localhost:8080/",
          "height": 430
        },
        "id": "lndQg9Entg95",
        "outputId": "85fa60e0-000c-4b61-d5b1-5a8ed29461d2"
      },
      "execution_count": 6,
      "outputs": [
        {
          "output_type": "display_data",
          "data": {
            "text/plain": [
              "<Figure size 640x480 with 1 Axes>"
            ],
            "image/png": "[encoded data removed]"
          },
          "metadata": {}
        }
      ]
    },
    {
      "cell_type": "markdown",
      "source": [
        "## 2. Build model"
      ],
      "metadata": {
        "id": "85ufvSlMy1V-"
      }
    },
    {
      "cell_type": "code",
      "source": [
        "# create linear regression model class\n",
        "\n",
        "class LinearRegressionModel(nn.Module): \n",
        "  # almost everything in PyTorch inherits from nn.Module\n",
        "\n",
        "  def __init__(self):\n",
        "    super().__init__()\n",
        "    self.weights = nn.Parameter(torch.randn(1,\n",
        "                                            requires_grad=True,\n",
        "                                            dtype=torch.float))\n",
        "    self.bias = nn.Parameter(torch.randn(1,\n",
        "                                         requires_grad=True,\n",
        "                                         dtype=torch.float))\n",
        "    \n",
        "    # Forward method to define the computation in the model\n",
        "    # any subclass of nn.Module needs to override forward()\n",
        "    # forward method is in the __init__\n",
        "  def forward(self, x: torch.Tensor) -> torch.Tensor: \n",
        "  # \"x\" is the input data, with Tensor type, expect to return a Tensor\n",
        "    return self.weights * x + self.bias"
      ],
      "metadata": {
        "id": "-35y2Cfot7ur"
      },
      "execution_count": 7,
      "outputs": []
    },
    {
      "cell_type": "markdown",
      "source": [
        "## PyTorch model building essentials"
      ],
      "metadata": {
        "id": "6vLbIJCu_Ayi"
      }
    },
    {
      "cell_type": "markdown",
      "source": [
        "* <b> torch.nn:  </b> contains all of the building blocks for computational graphs\n",
        "* <b> torch.nn.Parameter: </b> what parameters should our model try and learn\n",
        "* <b> torch.nn.Module: </b> the base class for all neural network modules, if you subclass it, you should override forward( )\n",
        "* <b> torch.optim: </b> this is where optimizers in PyTorch live, they will help with gradient descent.\n",
        "* <b> def forward(): </b> all nn.Module subclasses require you to override forward(), this method defines what happens in the forward computation"
      ],
      "metadata": {
        "id": "r3pelPHS_HTC"
      }
    },
    {
      "cell_type": "code",
      "source": [
        "# create a random seed\n",
        "torch.manual_seed(42)\n",
        "\n",
        "# create an instance of our model\n",
        "model_0 = LinearRegressionModel()\n",
        "\n",
        "# checkout the parameters\n",
        "list(model_0.parameters())"
      ],
      "metadata": {
        "id": "02FqGuiII5b2",
        "outputId": "8c7fa576-5d44-497b-b563-2610af207378",
        "colab": {
          "base_uri": "https://localhost:8080/"
        }
      },
      "execution_count": 8,
      "outputs": [
        {
          "output_type": "execute_result",
          "data": {
            "text/plain": [
              "[Parameter containing:\n",
              " tensor([0.3367], requires_grad=True),\n",
              " Parameter containing:\n",
              " tensor([0.1288], requires_grad=True)]"
            ]
          },
          "metadata": {},
          "execution_count": 8
        }
      ]
    },
    {
      "cell_type": "code",
      "source": [
        "# list mame parameters\n",
        "model_0.state_dict()"
      ],
      "metadata": {
        "id": "Z-cS55JlPwCa",
        "outputId": "0af3ff1a-e47c-4bd9-ad9c-4e76af4a27b3",
        "colab": {
          "base_uri": "https://localhost:8080/"
        }
      },
      "execution_count": 9,
      "outputs": [
        {
          "output_type": "execute_result",
          "data": {
            "text/plain": [
              "OrderedDict([('weights', tensor([0.3367])), ('bias', tensor([0.1288]))])"
            ]
          },
          "metadata": {},
          "execution_count": 9
        }
      ]
    },
    {
      "cell_type": "code",
      "source": [
        "weight, bias"
      ],
      "metadata": {
        "id": "3PzsgY-QQnHX",
        "outputId": "ea2cbc4e-76e2-443f-c46d-e06a2e043d79",
        "colab": {
          "base_uri": "https://localhost:8080/"
        }
      },
      "execution_count": 10,
      "outputs": [
        {
          "output_type": "execute_result",
          "data": {
            "text/plain": [
              "(0.7, 0.3)"
            ]
          },
          "metadata": {},
          "execution_count": 10
        }
      ]
    },
    {
      "cell_type": "markdown",
      "source": [
        "## Making predictions using \"torch.inference_mode( )\""
      ],
      "metadata": {
        "id": "fl0M4glpHuwL"
      }
    },
    {
      "cell_type": "code",
      "source": [
        "# make predictions with model\n",
        "with torch.inference_mode():\n",
        "  y_pred = model_0(X_test)\n",
        "\n",
        "y_pred"
      ],
      "metadata": {
        "id": "zkuVHzQPQ1Cw",
        "outputId": "2e2c22e9-5ab1-4132-cc69-5a4298a032c5",
        "colab": {
          "base_uri": "https://localhost:8080/"
        }
      },
      "execution_count": 11,
      "outputs": [
        {
          "output_type": "execute_result",
          "data": {
            "text/plain": [
              "tensor([[0.3982],\n",
              "        [0.4049],\n",
              "        [0.4116],\n",
              "        [0.4184],\n",
              "        [0.4251],\n",
              "        [0.4318],\n",
              "        [0.4386],\n",
              "        [0.4453],\n",
              "        [0.4520],\n",
              "        [0.4588]])"
            ]
          },
          "metadata": {},
          "execution_count": 11
        }
      ]
    },
    {
      "cell_type": "code",
      "source": [
        "# visualize predictions with plot_predictions function\n",
        "\n",
        "plot_predictions(predictions=y_pred)"
      ],
      "metadata": {
        "id": "U1BRIfUXRD41",
        "outputId": "90e1b032-0cf2-46da-9b03-1e8f2e1de95b",
        "colab": {
          "base_uri": "https://localhost:8080/",
          "height": 430
        }
      },
      "execution_count": 12,
      "outputs": [
        {
          "output_type": "display_data",
          "data": {
            "text/plain": [
              "<Figure size 640x480 with 1 Axes>"
            ],
            "image/png": "[encoded data removed]"
          },
          "metadata": {}
        }
      ]
    },
    {
      "cell_type": "markdown",
      "source": [
        "## 3. <b> Training the model </b>"
      ],
      "metadata": {
        "id": "kX5LOgPBU4Xt"
      }
    },
    {
      "cell_type": "markdown",
      "source": [
        "Things we need to train the model:\n",
        "\n",
        "1. <b> Loss function: </b> \n",
        "   measures how wrong your model's predictions are\n",
        "\n",
        "2. <b> Optimizer: </b>\n",
        "   takes into account the loss of a model and adjust the model's parameters"
      ],
      "metadata": {
        "id": "uRkxSnEmWBR1"
      }
    },
    {
      "cell_type": "markdown",
      "source": [
        "specifically for PyTorch, we need a <b> Training Loop </b> and a <b> Testing Loop </b>"
      ],
      "metadata": {
        "id": "ovsn3F7UWz-l"
      }
    },
    {
      "cell_type": "code",
      "source": [
        "# setup a loss function\n",
        "loss_fn = nn.L1Loss()\n",
        "\n",
        "# setup an optimizer\n",
        "optimizer = torch.optim.SGD(model_0.parameters(), lr=0.01)"
      ],
      "metadata": {
        "id": "c_18r_j5LC8e"
      },
      "execution_count": 13,
      "outputs": []
    },
    {
      "cell_type": "markdown",
      "source": [
        "### <b> Building a training loop and a testing loop </b>"
      ],
      "metadata": {
        "id": "rBRyNldVgZZw"
      }
    },
    {
      "cell_type": "markdown",
      "source": [
        "A couple of things we need in a training loop:\n",
        "0. Loop through the data\n",
        "1. Forward pass (data moving through model's forward()) -> forward propagation\n",
        "2. calculate the loss\n",
        "3. Optimizer zero grad\n",
        "4. Loss backward - move backward to calculate the gradients of all the parameters we need with repect to the loss\n",
        "5. Optimizer step - adjust model parameters to improve the loss"
      ],
      "metadata": {
        "id": "nKHI34x1gmmy"
      }
    },
    {
      "cell_type": "code",
      "source": [
        "# each epock is one loop through the data\n",
        "epochs = 1\n",
        "\n",
        "# 0. loop throught the data\n",
        "for epoch in range(epochs):\n",
        "  # set the model to training mode\n",
        "  # train mode in PyTorch tracks all parameters that requires_gradients \n",
        "  model_0.train()\n",
        "\n",
        "  # 1. forward pas\n",
        "  y_pred = model_0(X_train)\n",
        "\n",
        "  # 2. calculate the loss\n",
        "  loss = loss_fn(y_pred, y_train)\n",
        "\n",
        "  # 3. optimizer zero grad\n",
        "  optimizer.zero_grad()\n",
        "\n",
        "  # 4. perform backpropagation on the loss \n",
        "  #    with respect to the parameters of the model\n",
        "  loss.backward()\n",
        "\n",
        "  # 5. step the optimizer\n",
        "  optimizer.step()\n",
        "\n",
        "  model_0.eval() # turns off gradient tracking"
      ],
      "metadata": {
        "id": "fiIEEtaMiQ6M"
      },
      "execution_count": 14,
      "outputs": []
    },
    {
      "cell_type": "code",
      "source": [
        "# training loop\n",
        "\n",
        "epochs = 10\n",
        "\n",
        "for epoch in range(epochs):\n",
        "\n",
        "  # 0. set the model to training mode -> it allows gradient tracking\n",
        "  model_0.train()\n",
        "\n",
        "  # 1. forward pass to calculate y_prediction\n",
        "  y_pred = model_0(X_train)\n",
        "\n",
        "  # 2. calculate the loss\n",
        "  loss = loss_fn(y_pred, y_train)\n",
        "\n",
        "  # 3. zero out previous gradients\n",
        "  optimizer.zero_grad()\n",
        "\n",
        "  # 4. backpropagation to calculate gradients\n",
        "  loss.backward()\n",
        "\n",
        "  # 5. optimizer step\n",
        "  optimizer.step()"
      ],
      "metadata": {
        "id": "r2LfhpRNnttU"
      },
      "execution_count": 15,
      "outputs": []
    }
  ]
}