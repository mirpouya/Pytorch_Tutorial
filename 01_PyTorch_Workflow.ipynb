{
  "nbformat": 4,
  "nbformat_minor": 0,
  "metadata": {
    "colab": {
      "provenance": [],
      "authorship_tag": "ABX9TyMCwrq2m2Dx9yVfpwXoPvF1",
      "include_colab_link": true
    },
    "kernelspec": {
      "name": "python3",
      "display_name": "Python 3"
    },
    "language_info": {
      "name": "python"
    }
  },
  "cells": [
    {
      "cell_type": "markdown",
      "metadata": {
        "id": "view-in-github",
        "colab_type": "text"
      },
      "source": [
        "<a href=\"https://colab.research.google.com/github/mirpouya/Pytorch_Tutorial/blob/main/01_PyTorch_Workflow.ipynb\" target=\"_parent\"><img src=\"https://colab.research.google.com/assets/colab-badge.svg\" alt=\"Open In Colab\"/></a>"
      ]
    },
    {
      "cell_type": "markdown",
      "source": [
        "# Work flow\n",
        "* ## getting the data ready\n",
        "* ## turn the data into tensors\n",
        "* ## build or pick a pretrained model\n",
        "  1. pick a loss function and optimizer\n",
        "  2. build a training loop\n",
        "* ## fit the model to the data to make prediction\n",
        "* ## evaluate the model\n",
        "* ## improve through experimentation\n",
        "* ## save and reload the trained model"
      ],
      "metadata": {
        "id": "9uuvm1pyHiXy"
      }
    },
    {
      "cell_type": "code",
      "execution_count": 1,
      "metadata": {
        "colab": {
          "base_uri": "https://localhost:8080/",
          "height": 36
        },
        "id": "9Psn_WK_EY5P",
        "outputId": "0c002ac1-cf1f-4d0a-9ef4-09a32f6d0c80"
      },
      "outputs": [
        {
          "output_type": "execute_result",
          "data": {
            "text/plain": [
              "'2.0.1+cu118'"
            ],
            "application/vnd.google.colaboratory.intrinsic+json": {
              "type": "string"
            }
          },
          "metadata": {},
          "execution_count": 1
        }
      ],
      "source": [
        "import torch\n",
        "from torch import nn # nn contains all of pytorch's neural network's building blocks \n",
        "import matplotlib.pyplot as plt\n",
        "\n",
        "# checkout pytorch version\n",
        "torch.__version__"
      ]
    },
    {
      "cell_type": "markdown",
      "source": [
        "## 1. Data(preparing and loading)"
      ],
      "metadata": {
        "id": "qDlYfzrCQSA-"
      }
    },
    {
      "cell_type": "code",
      "source": [
        "# generating some linear regressoin data\n",
        "\n",
        "# create known parameters\n",
        "weight = 0.7\n",
        "bias = 0.3\n",
        "\n",
        "# create data\n",
        "start = 0\n",
        "end = 1\n",
        "step = 0.02\n",
        "X = torch.arange(start, end, step).unsqueeze(dim=1)\n",
        "y = weight*X + bias"
      ],
      "metadata": {
        "id": "GC2VsPU7HtQG"
      },
      "execution_count": 2,
      "outputs": []
    },
    {
      "cell_type": "code",
      "source": [
        "torch.arange(start, end, step).unsqueeze(dim=1).shape"
      ],
      "metadata": {
        "colab": {
          "base_uri": "https://localhost:8080/"
        },
        "id": "tn-mxe8WY6j6",
        "outputId": "4e5f83b8-ff1c-46b5-8345-560456f1dfea"
      },
      "execution_count": 3,
      "outputs": [
        {
          "output_type": "execute_result",
          "data": {
            "text/plain": [
              "torch.Size([50, 1])"
            ]
          },
          "metadata": {},
          "execution_count": 3
        }
      ]
    },
    {
      "cell_type": "code",
      "source": [
        "# splitting the data into test and train\n",
        "\n",
        "train_split = int(0.8 * len(X))\n",
        "\n",
        "X_train, y_train = X[:train_split], y[:train_split]\n",
        "X_test, y_test = X[train_split:], y[train_split:]\n",
        "\n",
        "len(X_train), len(y_train), len(X_test), len(y_test)"
      ],
      "metadata": {
        "colab": {
          "base_uri": "https://localhost:8080/"
        },
        "id": "Z7-wXMuSY9wG",
        "outputId": "41f2de73-b598-4c34-944e-98ee04e72ceb"
      },
      "execution_count": 4,
      "outputs": [
        {
          "output_type": "execute_result",
          "data": {
            "text/plain": [
              "(40, 40, 10, 10)"
            ]
          },
          "metadata": {},
          "execution_count": 4
        }
      ]
    },
    {
      "cell_type": "code",
      "source": [
        "# a function for plotting predictions\n",
        "\n",
        "def plot_predictions(\n",
        "        train_data=X_train,\n",
        "        train_labels=y_train,\n",
        "        test_data=X_test,\n",
        "        test_labels=y_test,\n",
        "        predictions=None):\n",
        "  \"\"\"\n",
        "  plots training data, test data, and compares predictions\n",
        "  \"\"\"\n",
        "  # plot training data in blue\n",
        "  plt.scatter(train_data, train_labels, c=\"b\", s=4, label=\"Training Data\")\n",
        "\n",
        "  # plot test data in green\n",
        "  plt.scatter(test_data, test_labels, c=\"g\", s=4, label=\"Test Data\")\n",
        "\n",
        "  # Are there predictions?\n",
        "  if predictions is not None:\n",
        "    # plot the predictions\n",
        "    plt.scatter(test_data, predictions, c=\"r\", s=4, label=\"Predictions\")\n",
        "\n",
        "  # show the ledgend\n",
        "  plt.legend(prop={\"size\":14})\n"
      ],
      "metadata": {
        "id": "eVUBlJIpsodo"
      },
      "execution_count": 5,
      "outputs": []
    },
    {
      "cell_type": "code",
      "source": [
        "plot_predictions()"
      ],
      "metadata": {
        "colab": {
          "base_uri": "https://localhost:8080/",
          "height": 430
        },
        "id": "lndQg9Entg95",
        "outputId": "b01c973a-0aa0-492f-d66e-8c83759d1749"
      },
      "execution_count": 6,
      "outputs": [
        {
          "output_type": "display_data",
          "data": {
            "text/plain": [
              "<Figure size 640x480 with 1 Axes>"
            ],
            "image/png": "[encoded data removed]"
          },
          "metadata": {}
        }
      ]
    },
    {
      "cell_type": "markdown",
      "source": [
        "## 2. Build model"
      ],
      "metadata": {
        "id": "85ufvSlMy1V-"
      }
    },
    {
      "cell_type": "code",
      "source": [
        "# create linear regression model class\n",
        "\n",
        "class LinearRegressionModel(nn.Module): \n",
        "  # almost everything in PyTorch inherits from nn.Module\n",
        "\n",
        "  def __init__(self):\n",
        "    super().__init__()\n",
        "    self.weights = nn.Parameter(torch.randn(1,\n",
        "                                            requires_grad=True,\n",
        "                                            dtype=torch.float))\n",
        "    self.bias = nn.Parameter(torch.randn(1,\n",
        "                                         requires_grad=True,\n",
        "                                         dtype=torch.float))\n",
        "    \n",
        "    # Forward method to define the computation in the model\n",
        "    # any subclass of nn.Module needs to override forward()\n",
        "    # forward method is in the __init__\n",
        "  def forward(self, x: torch.Tensor) -> torch.Tensor: \n",
        "  # \"x\" is the input data, with Tensor type, expect to return a Tensor\n",
        "    return self.weights * x + self.bias"
      ],
      "metadata": {
        "id": "-35y2Cfot7ur"
      },
      "execution_count": 7,
      "outputs": []
    },
    {
      "cell_type": "markdown",
      "source": [
        "## PyTorch model building essentials"
      ],
      "metadata": {
        "id": "6vLbIJCu_Ayi"
      }
    },
    {
      "cell_type": "markdown",
      "source": [
        "* <b> torch.nn:  </b> contains all of the building blocks for computational graphs\n",
        "* <b> torch.nn.Parameter: </b> what parameters should our model try and learn\n",
        "* <b> torch.nn.Module: </b> the base class for all neural network modules, if you subclass it, you should override forward( )\n",
        "* <b> torch.optim: </b> this is where optimizers in PyTorch live, they will help with gradient descent.\n",
        "* <b> def forward(): </b> all nn.Module subclasses require you to override forward(), this method defines what happens in the forward computation"
      ],
      "metadata": {
        "id": "r3pelPHS_HTC"
      }
    },
    {
      "cell_type": "code",
      "source": [
        "# create a random seed\n",
        "torch.manual_seed(42)\n",
        "\n",
        "# create an instance of our model\n",
        "model_0 = LinearRegressionModel()\n",
        "\n",
        "# checkout the parameters\n",
        "list(model_0.parameters())"
      ],
      "metadata": {
        "id": "02FqGuiII5b2",
        "outputId": "0069ab4f-6003-49a2-823b-0895df43d3d4",
        "colab": {
          "base_uri": "https://localhost:8080/"
        }
      },
      "execution_count": 8,
      "outputs": [
        {
          "output_type": "execute_result",
          "data": {
            "text/plain": [
              "[Parameter containing:\n",
              " tensor([0.3367], requires_grad=True),\n",
              " Parameter containing:\n",
              " tensor([0.1288], requires_grad=True)]"
            ]
          },
          "metadata": {},
          "execution_count": 8
        }
      ]
    },
    {
      "cell_type": "code",
      "source": [
        "# list mame parameters\n",
        "model_0.state_dict()"
      ],
      "metadata": {
        "id": "Z-cS55JlPwCa",
        "outputId": "1e199aaa-ab8b-4ef0-8e59-01c91257f672",
        "colab": {
          "base_uri": "https://localhost:8080/"
        }
      },
      "execution_count": 9,
      "outputs": [
        {
          "output_type": "execute_result",
          "data": {
            "text/plain": [
              "OrderedDict([('weights', tensor([0.3367])), ('bias', tensor([0.1288]))])"
            ]
          },
          "metadata": {},
          "execution_count": 9
        }
      ]
    },
    {
      "cell_type": "code",
      "source": [
        "weight, bias"
      ],
      "metadata": {
        "id": "3PzsgY-QQnHX",
        "outputId": "3a96c2c1-e515-4375-efcf-56b65278a6f6",
        "colab": {
          "base_uri": "https://localhost:8080/"
        }
      },
      "execution_count": 10,
      "outputs": [
        {
          "output_type": "execute_result",
          "data": {
            "text/plain": [
              "(0.7, 0.3)"
            ]
          },
          "metadata": {},
          "execution_count": 10
        }
      ]
    },
    {
      "cell_type": "markdown",
      "source": [
        "## Making predictions using \"torch.inference_mode( )\""
      ],
      "metadata": {
        "id": "fl0M4glpHuwL"
      }
    },
    {
      "cell_type": "code",
      "source": [
        "# make predictions with model\n",
        "with torch.inference_mode():\n",
        "  y_pred = model_0(X_test)\n",
        "\n",
        "y_pred"
      ],
      "metadata": {
        "id": "zkuVHzQPQ1Cw",
        "outputId": "7a981763-977d-479c-87aa-e819503f8a02",
        "colab": {
          "base_uri": "https://localhost:8080/"
        }
      },
      "execution_count": 11,
      "outputs": [
        {
          "output_type": "execute_result",
          "data": {
            "text/plain": [
              "tensor([[0.3982],\n",
              "        [0.4049],\n",
              "        [0.4116],\n",
              "        [0.4184],\n",
              "        [0.4251],\n",
              "        [0.4318],\n",
              "        [0.4386],\n",
              "        [0.4453],\n",
              "        [0.4520],\n",
              "        [0.4588]])"
            ]
          },
          "metadata": {},
          "execution_count": 11
        }
      ]
    },
    {
      "cell_type": "code",
      "source": [
        "# visualize predictions with plot_predictions function\n",
        "\n",
        "plot_predictions(predictions=y_pred)"
      ],
      "metadata": {
        "id": "U1BRIfUXRD41",
        "outputId": "33bb6ca6-f390-4b21-8236-c9a1cff7a46f",
        "colab": {
          "base_uri": "https://localhost:8080/",
          "height": 430
        }
      },
      "execution_count": 12,
      "outputs": [
        {
          "output_type": "display_data",
          "data": {
            "text/plain": [
              "<Figure size 640x480 with 1 Axes>"
            ],
            "image/png": "[encoded data removed]"
          },
          "metadata": {}
        }
      ]
    },
    {
      "cell_type": "markdown",
      "source": [
        "## 3. <b> Training the model </b>"
      ],
      "metadata": {
        "id": "kX5LOgPBU4Xt"
      }
    },
    {
      "cell_type": "markdown",
      "source": [
        "Things we need to train the model:\n",
        "\n",
        "1. <b> Loss function: </b> \n",
        "   measures how wrong your model's predictions are\n",
        "\n",
        "2. <b> Optimizer: </b>\n",
        "   takes into account the loss of a model and adjust the model's parameters"
      ],
      "metadata": {
        "id": "uRkxSnEmWBR1"
      }
    },
    {
      "cell_type": "markdown",
      "source": [
        "specifically for PyTorch, we need a <b> Training Loop </b> and a <b> Testing Loop </b>"
      ],
      "metadata": {
        "id": "ovsn3F7UWz-l"
      }
    },
    {
      "cell_type": "code",
      "source": [
        "# setup a loss function\n",
        "loss_fn = nn.L1Loss()\n",
        "\n",
        "# setup an optimizer\n",
        "optimizer = torch.optim.SGD(model_0.parameters(), lr=0.01)"
      ],
      "metadata": {
        "id": "c_18r_j5LC8e"
      },
      "execution_count": 13,
      "outputs": []
    },
    {
      "cell_type": "markdown",
      "source": [
        "### <b> Building a training loop and a testing loop </b>"
      ],
      "metadata": {
        "id": "rBRyNldVgZZw"
      }
    },
    {
      "cell_type": "markdown",
      "source": [
        "A couple of things we need in a training loop:\n",
        "0. Loop through the data\n",
        "1. Forward pass (data moving through model's forward()) -> forward propagation\n",
        "2. calculate the loss\n",
        "3. Optimizer zero grad\n",
        "4. Loss backward - move backward to calculate the gradients of all the parameters we need with repect to the loss\n",
        "5. Optimizer step - adjust model parameters to improve the loss"
      ],
      "metadata": {
        "id": "nKHI34x1gmmy"
      }
    },
    {
      "cell_type": "code",
      "source": [
        "# each epock is one loop through the data\n",
        "epochs = 1\n",
        "\n",
        "# 0. loop throught the data\n",
        "for epoch in range(epochs):\n",
        "  # set the model to training mode\n",
        "  # train mode in PyTorch tracks all parameters that requires_gradients \n",
        "  model_0.train()\n",
        "\n",
        "  # 1. forward pas\n",
        "  y_pred = model_0(X_train)\n",
        "\n",
        "  # 2. calculate the loss\n",
        "  loss = loss_fn(y_pred, y_train)\n",
        "\n",
        "  # 3. optimizer zero grad\n",
        "  optimizer.zero_grad()\n",
        "\n",
        "  # 4. perform backpropagation on the loss \n",
        "  #    with respect to the parameters of the model\n",
        "  loss.backward()\n",
        "\n",
        "  # 5. step the optimizer\n",
        "  optimizer.step()\n",
        "\n",
        "  model_0.eval() # turns off gradient tracking"
      ],
      "metadata": {
        "id": "fiIEEtaMiQ6M"
      },
      "execution_count": 14,
      "outputs": []
    },
    {
      "cell_type": "code",
      "source": [
        "# training loop\n",
        "torch.manual_seed(42)\n",
        "\n",
        "epochs = 1\n",
        "\n",
        "for epoch in range(epochs):\n",
        "\n",
        "  # 0. set the model to training mode -> it allows gradient tracking\n",
        "  model_0.train()\n",
        "\n",
        "  # 1. forward pass to calculate y_prediction\n",
        "  y_pred = model_0(X_train)\n",
        "\n",
        "  # 2. calculate the loss\n",
        "  loss = loss_fn(y_pred, y_train)\n",
        "  # print the loss\n",
        "  print(f\"Loss: {loss}\")\n",
        "\n",
        "  # 3. zero out previous gradients\n",
        "  optimizer.zero_grad()\n",
        "\n",
        "  # 4. backpropagation to calculate gradients\n",
        "  loss.backward()\n",
        "\n",
        "  # 5. optimizer step\n",
        "  optimizer.step()\n",
        "\n",
        "  # 6. Testing\n",
        "  model_0.eval()"
      ],
      "metadata": {
        "id": "r2LfhpRNnttU",
        "colab": {
          "base_uri": "https://localhost:8080/"
        },
        "outputId": "df63a689-6aa7-4fc4-cbe9-d7c17fee5dff"
      },
      "execution_count": 15,
      "outputs": [
        {
          "output_type": "stream",
          "name": "stdout",
          "text": [
            "Loss: 0.3013603389263153\n"
          ]
        }
      ]
    },
    {
      "cell_type": "code",
      "source": [
        "model_0.state_dict()"
      ],
      "metadata": {
        "id": "YybW9eotMHyj",
        "outputId": "3f7a6015-0afa-43b7-b736-0f208b3c50c2",
        "colab": {
          "base_uri": "https://localhost:8080/"
        }
      },
      "execution_count": 16,
      "outputs": [
        {
          "output_type": "execute_result",
          "data": {
            "text/plain": [
              "OrderedDict([('weights', tensor([0.3445])), ('bias', tensor([0.1488]))])"
            ]
          },
          "metadata": {},
          "execution_count": 16
        }
      ]
    },
    {
      "cell_type": "code",
      "source": [
        "# visualizing prediction afte 10 epochs\n",
        "\n",
        "with torch.inference_mode():\n",
        "  y_pred = model_0(X_test)\n",
        "\n",
        "plot_predictions(predictions=y_pred)"
      ],
      "metadata": {
        "id": "-B3OPNmRQ3X3",
        "outputId": "93837eda-c05b-4041-9cfa-3393006d7fc8",
        "colab": {
          "base_uri": "https://localhost:8080/",
          "height": 430
        }
      },
      "execution_count": 17,
      "outputs": [
        {
          "output_type": "display_data",
          "data": {
            "text/plain": [
              "<Figure size 640x480 with 1 Axes>"
            ],
            "image/png": "[encoded data removed]"
          },
          "metadata": {}
        }
      ]
    },
    {
      "cell_type": "code",
      "source": [
        "# completing testing phase of loop\n",
        "\n",
        "torch.manual_seed(42)\n",
        "\n",
        "epochs = 125\n",
        "\n",
        "for epoch in range(epochs):\n",
        "\n",
        "  # 0. train mode\n",
        "  model_0.train()\n",
        "\n",
        "  # 1. forward pass - calculate y_pred for training set\n",
        "  y_pred = model_0(X_train)\n",
        "\n",
        "  # 2. calculate loss\n",
        "  loss = loss_fn(y_pred, y_train)\n",
        "  # print loss\n",
        "  #print(f\"Loss in epoch {epoch} is {loss}\")\n",
        "\n",
        "  # 3. zero out gradients\n",
        "  optimizer.zero_grad()\n",
        "\n",
        "  # 4. backward pass - calculate gradients\n",
        "  loss.backward()\n",
        "\n",
        "  # 5. optimizer step\n",
        "  optimizer.step()\n",
        "\n",
        "\n",
        "  ########## Testing mode ############\n",
        "  \n",
        "  # 0. test mode: turns off settings in the model not needed for test phase\n",
        "  # such as dropout, batch normalization,...\n",
        "  model_0.eval()\n",
        "\n",
        "  # 1. making inference\n",
        "  # turns off gradient tracking and couple more things\n",
        "  with torch.inference_mode():\n",
        "    # 1. do the forward pass - calculate y_pred for test\n",
        "    test_pred = model_0(X_test)\n",
        "\n",
        "    # 2. calculate the test loss\n",
        "    test_loss = loss_fn(test_pred, y_test)\n",
        "\n",
        "  if epoch % 5 == 0:\n",
        "    print(f\"epoch: {epoch} | loss: {loss} | test loss: {test_loss}\\n\")\n",
        "    print(model_0.state_dict())\n",
        "\n",
        "with torch.inference_mode():\n",
        "  y_test_hat = model_0(X_test)\n",
        "\n",
        "plot_predictions(predictions=y_test_hat)"
      ],
      "metadata": {
        "id": "btz_pkMyVjwx",
        "outputId": "10754cf0-b447-438f-f649-fee42ad7ea33",
        "colab": {
          "base_uri": "https://localhost:8080/",
          "height": 1000
        }
      },
      "execution_count": 18,
      "outputs": [
        {
          "output_type": "stream",
          "name": "stdout",
          "text": [
            "epoch: 0 | loss: 0.28983935713768005 | test loss: 0.4541231691837311\n",
            "\n",
            "OrderedDict([('weights', tensor([0.3484])), ('bias', tensor([0.1588]))])\n",
            "epoch: 5 | loss: 0.23223432898521423 | test loss: 0.3867681920528412\n",
            "\n",
            "OrderedDict([('weights', tensor([0.3679])), ('bias', tensor([0.2088]))])\n",
            "epoch: 10 | loss: 0.1746293306350708 | test loss: 0.3194132149219513\n",
            "\n",
            "OrderedDict([('weights', tensor([0.3874])), ('bias', tensor([0.2588]))])\n",
            "epoch: 15 | loss: 0.11702437698841095 | test loss: 0.2520582973957062\n",
            "\n",
            "OrderedDict([('weights', tensor([0.4069])), ('bias', tensor([0.3088]))])\n",
            "epoch: 20 | loss: 0.07638873159885406 | test loss: 0.19773726165294647\n",
            "\n",
            "OrderedDict([('weights', tensor([0.4258])), ('bias', tensor([0.3463]))])\n",
            "epoch: 25 | loss: 0.05845819041132927 | test loss: 0.16037428379058838\n",
            "\n",
            "OrderedDict([('weights', tensor([0.4425])), ('bias', tensor([0.3688]))])\n",
            "epoch: 30 | loss: 0.05069301277399063 | test loss: 0.13647659122943878\n",
            "\n",
            "OrderedDict([('weights', tensor([0.4564])), ('bias', tensor([0.3803]))])\n",
            "epoch: 35 | loss: 0.04692792519927025 | test loss: 0.1202877014875412\n",
            "\n",
            "OrderedDict([('weights', tensor([0.4684])), ('bias', tensor([0.3858]))])\n",
            "epoch: 40 | loss: 0.04463795945048332 | test loss: 0.1100495308637619\n",
            "\n",
            "OrderedDict([('weights', tensor([0.4788])), ('bias', tensor([0.3868]))])\n",
            "epoch: 45 | loss: 0.04272563382983208 | test loss: 0.10250549018383026\n",
            "\n",
            "OrderedDict([('weights', tensor([0.4884])), ('bias', tensor([0.3858]))])\n",
            "epoch: 50 | loss: 0.04098063334822655 | test loss: 0.09699545800685883\n",
            "\n",
            "OrderedDict([('weights', tensor([0.4974])), ('bias', tensor([0.3833]))])\n",
            "epoch: 55 | loss: 0.03923564404249191 | test loss: 0.09148545563220978\n",
            "\n",
            "OrderedDict([('weights', tensor([0.5064])), ('bias', tensor([0.3808]))])\n",
            "epoch: 60 | loss: 0.0375034399330616 | test loss: 0.08666229248046875\n",
            "\n",
            "OrderedDict([('weights', tensor([0.5152])), ('bias', tensor([0.3778]))])\n",
            "epoch: 65 | loss: 0.03578609973192215 | test loss: 0.08321291208267212\n",
            "\n",
            "OrderedDict([('weights', tensor([0.5236])), ('bias', tensor([0.3738]))])\n",
            "epoch: 70 | loss: 0.03407188132405281 | test loss: 0.07907666265964508\n",
            "\n",
            "OrderedDict([('weights', tensor([0.5322])), ('bias', tensor([0.3703]))])\n",
            "epoch: 75 | loss: 0.032357655465602875 | test loss: 0.07494036853313446\n",
            "\n",
            "OrderedDict([('weights', tensor([0.5407])), ('bias', tensor([0.3668]))])\n",
            "epoch: 80 | loss: 0.030638623982667923 | test loss: 0.07080408930778503\n",
            "\n",
            "OrderedDict([('weights', tensor([0.5493])), ('bias', tensor([0.3633]))])\n",
            "epoch: 85 | loss: 0.028919223695993423 | test loss: 0.0666678324341774\n",
            "\n",
            "OrderedDict([('weights', tensor([0.5579])), ('bias', tensor([0.3598]))])\n",
            "epoch: 90 | loss: 0.027199819684028625 | test loss: 0.06253156810998917\n",
            "\n",
            "OrderedDict([('weights', tensor([0.5665])), ('bias', tensor([0.3563]))])\n",
            "epoch: 95 | loss: 0.02548416517674923 | test loss: 0.05908216908574104\n",
            "\n",
            "OrderedDict([('weights', tensor([0.5748])), ('bias', tensor([0.3523]))])\n",
            "epoch: 100 | loss: 0.02376994863152504 | test loss: 0.05494590476155281\n",
            "\n",
            "OrderedDict([('weights', tensor([0.5834])), ('bias', tensor([0.3488]))])\n",
            "epoch: 105 | loss: 0.022054409608244896 | test loss: 0.05080962926149368\n",
            "\n",
            "OrderedDict([('weights', tensor([0.5920])), ('bias', tensor([0.3453]))])\n",
            "epoch: 110 | loss: 0.02033500373363495 | test loss: 0.046673357486724854\n",
            "\n",
            "OrderedDict([('weights', tensor([0.6006])), ('bias', tensor([0.3418]))])\n",
            "epoch: 115 | loss: 0.01861560344696045 | test loss: 0.04253707453608513\n",
            "\n",
            "OrderedDict([('weights', tensor([0.6092])), ('bias', tensor([0.3383]))])\n",
            "epoch: 120 | loss: 0.016896454617381096 | test loss: 0.0390876941382885\n",
            "\n",
            "OrderedDict([('weights', tensor([0.6175])), ('bias', tensor([0.3343]))])\n"
          ]
        },
        {
          "output_type": "display_data",
          "data": {
            "text/plain": [
              "<Figure size 640x480 with 1 Axes>"
            ],
            "image/png": "[encoded data removed]"
          },
          "metadata": {}
        }
      ]
    },
    {
      "cell_type": "code",
      "source": [],
      "metadata": {
        "id": "CT-Q9nc7fU0R"
      },
      "execution_count": 18,
      "outputs": []
    }
  ]
}